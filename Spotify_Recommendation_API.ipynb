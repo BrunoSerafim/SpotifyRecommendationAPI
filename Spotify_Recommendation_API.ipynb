{
  "nbformat": 4,
  "nbformat_minor": 0,
  "metadata": {
    "colab": {
      "provenance": [],
      "authorship_tag": "ABX9TyOtPZN2FkCA2Yo5RVu9b4pZ",
      "include_colab_link": true
    },
    "kernelspec": {
      "name": "python3",
      "display_name": "Python 3"
    },
    "language_info": {
      "name": "python"
    }
  },
  "cells": [
    {
      "cell_type": "markdown",
      "metadata": {
        "id": "view-in-github",
        "colab_type": "text"
      },
      "source": [
        "<a href=\"https://colab.research.google.com/github/BrunoSerafim/SpotifyRecommendationAPI/blob/main/Spotify_Recommendation_API.ipynb\" target=\"_parent\"><img src=\"https://colab.research.google.com/assets/colab-badge.svg\" alt=\"Open In Colab\"/></a>"
      ]
    },
    {
      "cell_type": "markdown",
      "source": [
        "### About Google Colab\n",
        "\n",
        "Google Colab is a convenient platform for running code in a Jupyter Notebook environment.\n",
        "\n",
        "**Note:** Your data and information are not saved after your session ends. However, if you're hesitant about entering your Spotify API client ID and secret directly into the notebook, here's how you can ensure your data privacy:\n",
        "\n",
        "- Click on `File` > `Save a Copy to Drive` to save the notebook to your Google Drive.\n",
        "- You can then edit and run the notebook from your own secure space. Plus, you can keep your API credentials safe.\n",
        "\n",
        "Feel free to explore the tutorial and enjoy experimenting with it!\n",
        "\n",
        "\n",
        "For a detailed tutorial on using Google Colab, watch this [YouTube video](https://www.youtube.com/watch?v=inN8seMm7UI), which provides step-by-step guidance on getting started and using its features effectively.\n",
        "\n"
      ],
      "metadata": {
        "id": "f-bveyG6q4RR"
      }
    },
    {
      "cell_type": "markdown",
      "source": [
        "# The Setup\n",
        "\n",
        "The first thing you need to be able to use the API is an OAuth token. To obtain one, follow the steps at [Spotify Developer Documentation](https://developer.spotify.com/documentation/web-api).\n",
        "\n",
        "1. Log in to the dashboard using your Spotify account.\n",
        "2. Create an app. Once you have created your app, you will gain access to the app credentials. These credentials are required for API authorization to obtain an access token.\n",
        "\n",
        "Here are the steps to create an app:\n",
        "\n",
        "- Go to the [Spotify Developer Dashboard](https://developer.spotify.com/).\n",
        "- In the top-right corner, log in with your Spotify account.\n",
        "- Click on your name, then go to 'Dashboard.'\n",
        "- Accept the terms.\n",
        "- Click on 'Create an App.'\n",
        "- Provide an App Name (e.g., 'Playlist Generator'), App description (e.g., 'Generate Playlists'), and Redirect URI (e.g., 'http://localhost:3000' - a common route for locally running web servers, but you won't need to run anything; it's needed to create a client_secret).\n",
        "\n",
        "Afterward:\n",
        "\n",
        "- Go to 'Settings' > 'Basic Information' to obtain your client_id and client_secret.\n",
        "\n",
        "\n",
        "You can use a free account. In fact, you can create an account just for this. First, though, you will need to verify your email and log in to your account. Before the first login, you won't be able to get a client ID.\n"
      ],
      "metadata": {
        "id": "HCIxGud3L1DT"
      }
    },
    {
      "cell_type": "code",
      "source": [
        "client_id = ''\n",
        "client_secret = ''"
      ],
      "metadata": {
        "id": "G2y3v50AodpK"
      },
      "execution_count": null,
      "outputs": []
    },
    {
      "cell_type": "code",
      "source": [
        "import requests\n",
        "import json\n",
        "class SpotifyRecommendation():\n",
        "    def __init__(self, client_id, client_secret):\n",
        "        self.client_id = client_id\n",
        "        self.client_secret = client_secret\n",
        "        self.headers = self.get_headers()\n",
        "\n",
        "    def get_headers(self):\n",
        "        url = \"https://accounts.spotify.com/api/token\"\n",
        "\n",
        "        # Define the headers\n",
        "        headers = {\n",
        "            \"Content-Type\": \"application/x-www-form-urlencoded\",\n",
        "        }\n",
        "\n",
        "        # Define the payload data\n",
        "        data = {\n",
        "            \"grant_type\": \"client_credentials\",\n",
        "            \"client_id\": self.client_id,\n",
        "            \"client_secret\": self.client_secret,\n",
        "        }\n",
        "\n",
        "        # Make the POST request\n",
        "        response = requests.post(url, headers=headers, data=data)\n",
        "        # Check the response\n",
        "        if response.status_code == 200:\n",
        "            # Request was successful, and you can parse the JSON response\n",
        "            json_response = response.json()\n",
        "            access_token = json_response[\"access_token\"]\n",
        "            token_type = json_response[\"token_type\"]\n",
        "            print(f\"Access Token: {access_token}\")\n",
        "            print(f\"Token Type: {token_type}\")\n",
        "            return {\n",
        "                \"Authorization\": f\"Bearer {access_token}\"\n",
        "            }\n",
        "        else:\n",
        "            print(f\"Request failed with status code {response.status_code}:\")\n",
        "            print(response.text)\n",
        "            return None\n",
        "\n",
        "    def get_genre_artist(self, artist_id):\n",
        "      url = f\"https://api.spotify.com/v1/artists/{artist_id}\"\n",
        "\n",
        "      # Make the GET request\n",
        "      response = requests.get(url, headers=self.headers)\n",
        "\n",
        "      # Check the response\n",
        "      if response.status_code == 200:\n",
        "          # Request was successful, and you can parse the JSON response\n",
        "          json_response = response.json()\n",
        "          # Do something with the JSON response here\n",
        "      return json_response['genres']\n",
        "\n",
        "    def get_audio_features_track(self, track_id):\n",
        "      # Define the URL for the audio features endpoint\n",
        "      url = f\"https://api.spotify.com/v1/audio-features/{track_id}\"\n",
        "\n",
        "      # Make the GET request to retrieve the audio features\n",
        "      response = requests.get(url, headers=self.headers)\n",
        "\n",
        "      # Check if the request was successful (status code 200)\n",
        "      if response.status_code == 200:\n",
        "          audio_features = response.json()\n",
        "      return audio_features\n",
        "\n",
        "    def get_avaiable_genres(self):\n",
        "      # Define the URL\n",
        "      url = f\"https://api.spotify.com/v1/recommendations/available-genre-seeds\"\n",
        "\n",
        "      # Make the GET request\n",
        "      response = requests.get(url, headers=self.headers)\n",
        "      return print(response.json()['genres'])\n",
        "\n",
        "    def get_songs(self, params):\n",
        "      endpoint_url = \"https://api.spotify.com/v1/recommendations\"\n",
        "      response = requests.get(endpoint_url, headers=self.headers, params=params)\n",
        "      json_response = response.json()\n",
        "\n",
        "\n",
        "      for track in json_response['tracks']:\n",
        "        song_name = track['name']\n",
        "        artist_name = track['artists'][0]['name']\n",
        "        print(f\"{song_name} by {artist_name}\")"
      ],
      "metadata": {
        "id": "gtYjfig5L0WJ"
      },
      "execution_count": null,
      "outputs": []
    },
    {
      "cell_type": "code",
      "source": [
        "spotify = SpotifyRecommendation(client_id, client_secret)"
      ],
      "metadata": {
        "colab": {
          "base_uri": "https://localhost:8080/"
        },
        "id": "W16-66QIcCz5",
        "outputId": "9254b7c8-bdf5-494b-ed94-7fc74b5ad1e3"
      },
      "execution_count": null,
      "outputs": [
        {
          "output_type": "stream",
          "name": "stdout",
          "text": [
            "Access Token: BQAOnfeT_IZzLeE1lMLl8FPy3uHKDDy2fZWlixNrXon-M-2oWjCMN00lI2X26ywoTWZlmxChdZBqSVko1yGeaLQyEFtdM2lDc4ERkOaX1HY2yCGnDjs\n",
            "Token Type: Bearer\n"
          ]
        }
      ]
    },
    {
      "cell_type": "markdown",
      "source": [
        "Here we can see all the avaiable genres in the API"
      ],
      "metadata": {
        "id": "659ngT4vjUlJ"
      }
    },
    {
      "cell_type": "code",
      "source": [
        "spotify.get_avaiable_genres()"
      ],
      "metadata": {
        "colab": {
          "base_uri": "https://localhost:8080/"
        },
        "id": "ZFK-RwYDdQGI",
        "outputId": "43eaed34-eaf2-41e9-a4d9-d00da6ed1108"
      },
      "execution_count": null,
      "outputs": [
        {
          "output_type": "stream",
          "name": "stdout",
          "text": [
            "['acoustic', 'afrobeat', 'alt-rock', 'alternative', 'ambient', 'anime', 'black-metal', 'bluegrass', 'blues', 'bossanova', 'brazil', 'breakbeat', 'british', 'cantopop', 'chicago-house', 'children', 'chill', 'classical', 'club', 'comedy', 'country', 'dance', 'dancehall', 'death-metal', 'deep-house', 'detroit-techno', 'disco', 'disney', 'drum-and-bass', 'dub', 'dubstep', 'edm', 'electro', 'electronic', 'emo', 'folk', 'forro', 'french', 'funk', 'garage', 'german', 'gospel', 'goth', 'grindcore', 'groove', 'grunge', 'guitar', 'happy', 'hard-rock', 'hardcore', 'hardstyle', 'heavy-metal', 'hip-hop', 'holidays', 'honky-tonk', 'house', 'idm', 'indian', 'indie', 'indie-pop', 'industrial', 'iranian', 'j-dance', 'j-idol', 'j-pop', 'j-rock', 'jazz', 'k-pop', 'kids', 'latin', 'latino', 'malay', 'mandopop', 'metal', 'metal-misc', 'metalcore', 'minimal-techno', 'movies', 'mpb', 'new-age', 'new-release', 'opera', 'pagode', 'party', 'philippines-opm', 'piano', 'pop', 'pop-film', 'post-dubstep', 'power-pop', 'progressive-house', 'psych-rock', 'punk', 'punk-rock', 'r-n-b', 'rainy-day', 'reggae', 'reggaeton', 'road-trip', 'rock', 'rock-n-roll', 'rockabilly', 'romance', 'sad', 'salsa', 'samba', 'sertanejo', 'show-tunes', 'singer-songwriter', 'ska', 'sleep', 'songwriter', 'soul', 'soundtracks', 'spanish', 'study', 'summer', 'swedish', 'synth-pop', 'tango', 'techno', 'trance', 'trip-hop', 'turkish', 'work-out', 'world-music']\n"
          ]
        }
      ]
    },
    {
      "cell_type": "markdown",
      "source": [
        "## Artist and Track ID's\n",
        "\n",
        "To obtain the track seed we'll use, you can go to the track on Spotify and copy the share link:\n",
        ".../track/65FEsW033IUCOE0ouwmkej ?si=69018d25b994429c\n",
        "\n",
        "The same method applies to the share artist links:\n",
        ".../artist/40ZNYROS4zLfyyBSs2PGe2 ?si=rdoVBvMrTUKdB7fqx1rWDw\n",
        "\n",
        "The \"si=\" part of the link is for Spotify's internal tracking and analytical purposes.\n",
        "\n",
        "We will use the IDs; in these examples: 40ZNYROS4zLfyyBSs2PGe2 for the artist and 65FEsW033IUCOE0ouwmkej for the track.\n",
        "\n",
        "\n"
      ],
      "metadata": {
        "id": "fakB0fr7BuEb"
      }
    },
    {
      "cell_type": "code",
      "source": [
        "#here you can change for your favorite song and artist\n",
        "artist_id = '40ZNYROS4zLfyyBSs2PGe2'\n",
        "track_id = '3PBPi9VaUh9MCQVzmDdMZU'"
      ],
      "metadata": {
        "id": "DJ3NViMwpQeH"
      },
      "execution_count": null,
      "outputs": []
    },
    {
      "cell_type": "code",
      "source": [
        "spotify.get_genre_artist(artist_id)"
      ],
      "metadata": {
        "colab": {
          "base_uri": "https://localhost:8080/"
        },
        "id": "lD3n9_uMosGL",
        "outputId": "9fb266f0-6efb-4d90-bd59-da42b983bcb3"
      },
      "execution_count": null,
      "outputs": [
        {
          "output_type": "execute_result",
          "data": {
            "text/plain": [
              "['classic oklahoma country', 'modern country pop']"
            ]
          },
          "metadata": {},
          "execution_count": 75
        }
      ]
    },
    {
      "cell_type": "markdown",
      "source": [
        "And here we see an issue with the genres seed. While it makes sense internally for this artist, this classification doesn't work because not all of them are available in the genres for my region. You can only use the genres that are shown in the get_avaiable_genres above\n",
        "\n",
        "It's better to use tracks and artists as seeds.\n",
        "\n",
        "Now, let's look at one track to see how the audio features are scored so we can have a base of how those values are set and adjust it to our own taste."
      ],
      "metadata": {
        "id": "j5Mpgl6qkF7O"
      }
    },
    {
      "cell_type": "code",
      "source": [
        "spotify.get_audio_features_track(track_id)"
      ],
      "metadata": {
        "colab": {
          "base_uri": "https://localhost:8080/"
        },
        "id": "1CRToBPQzVBR",
        "outputId": "1bb64f57-85e8-4ba9-ed1c-6b23123c86c4"
      },
      "execution_count": null,
      "outputs": [
        {
          "output_type": "execute_result",
          "data": {
            "text/plain": [
              "{'danceability': 0.488,\n",
              " 'energy': 0.846,\n",
              " 'key': 6,\n",
              " 'loudness': -5.336,\n",
              " 'mode': 1,\n",
              " 'speechiness': 0.0309,\n",
              " 'acousticness': 0.0569,\n",
              " 'instrumentalness': 0.000775,\n",
              " 'liveness': 0.0861,\n",
              " 'valence': 0.861,\n",
              " 'tempo': 180.044,\n",
              " 'type': 'audio_features',\n",
              " 'id': '3PBPi9VaUh9MCQVzmDdMZU',\n",
              " 'uri': 'spotify:track:3PBPi9VaUh9MCQVzmDdMZU',\n",
              " 'track_href': 'https://api.spotify.com/v1/tracks/3PBPi9VaUh9MCQVzmDdMZU',\n",
              " 'analysis_url': 'https://api.spotify.com/v1/audio-analysis/3PBPi9VaUh9MCQVzmDdMZU',\n",
              " 'duration_ms': 204667,\n",
              " 'time_signature': 4}"
            ]
          },
          "metadata": {},
          "execution_count": 127
        }
      ]
    },
    {
      "cell_type": "markdown",
      "source": [
        "### Spotify Recommendation Parameters\n",
        "\n",
        "- **seed_artists**, **seed_genres**, **seed_tracks**: At least one of these is required. You can use them to tell Spotify what kind of stuff you're into. Give it up to 5 artists, genres, or specific tracks as hints.\n",
        "\n",
        "- **limit**: This controls how many items you want to get back, like songs or artists. It's set to 20 by default, but you can change it to anything between 1 and 100.\n",
        "\n",
        "- **market**: This is optional and lets you filter results based on the country or region. Just use the two-letter country code (e.g., \"US\" for the United States) to get content available there.\n",
        "\n",
        "- **target_danceability**: This helps you pick songs that make you want to move. Higher values (up to 1) mean more dance-worthy tracks.\n",
        "\n",
        "- **target_liveness**: Want that live concert feel? Set this between 0 and 1. 0 is like a studio recording, and 1 is a live performance.\n",
        "\n",
        "- **target_energy**: Craving some high-energy music? Adjust this between 0 and 1 to find the right level.\n",
        "\n",
        "- **target_loudness**: Control the loudness in decibels (dB) of the recommended tracks with this parameter.\n",
        "\n",
        "- **target_mode**: Choose between major and minor keys. 0 for major (happy), 1 for minor (sad).\n",
        "\n",
        "- **target_speechiness**: If you're in the mood for more talking and less singing, set this between 0 and 1.\n",
        "\n",
        "- **target_valence**: Want happy, positive tunes? Set this closer to 1.\n",
        "\n",
        "- **target_instrumentalness**: If you prefer instrumental tracks, turn this up (between 0 and 1) to filter out songs with vocals.\n",
        "\n",
        "- **target_popularity**: Want the hits or more underground tracks? Adjust this between 0 and 100, with higher values indicating more popular songs.\n",
        "\n",
        "- **target_tempo**: If you have a specific tempo (beats per minute) in mind, put it here to find songs that match.\n",
        "\n",
        "These parameters give you control over what kind of music you get from Spotify, so you can fine-tune your recommendations to suit your mood and taste.\n"
      ],
      "metadata": {
        "id": "plr1sz6ufVPR"
      }
    },
    {
      "cell_type": "code",
      "source": [
        "# Uncomment the params you want to add (remove the # before their name) and add a value to it.\n",
        "\n",
        "my_params = {\n",
        "    \"limit\": 30,                           # Up to 100. Default 20\n",
        "    #\"seed_artists\": [\"id1\", \"id2\",\"id3\"], # Replace with an artist ID as a seed\n",
        "    \"seed_tracks\": [\"4guaZ7m088d0yCECVPM7aq\",\"65FEsW033IUCOE0ouwmkej\", \"3PBPi9VaUh9MCQVzmDdMZU\", \"0OWhKvvsHptt6vnnNUSM9a\"],                     # Replace with a track ID as a seed\n",
        "    #\"seed_genres\": \"\",                     # Replace with genres in a string with comma separated values the genres must be in avaiable_genres list (eg. \"bluegrass, blues, chicago-house\")\n",
        "    \"target_danceability\": 0.3,            # Desired danceability (between 0 and 1)\n",
        "    \"target_energy\": 0.8,                    # Desired energy (between 0 and 1)\n",
        "    #\"target_instrumentalness\": 0,          # Desired instrumentalness (between 0 and 1)\n",
        "    \"target_liveness\": 0.2,                # Desired liveness (between 0 and 1)\n",
        "    #\"target_loudness\": 5,                  # Desired loudness (in dB, e.g., -5.0)\n",
        "    \"target_mode\": 1,                      # Desired mode (0 for minor, 1 for major)\n",
        "    #\"target_popularity\": 90,               # Desired popularity (between 0 and 100)\n",
        "    #\"target_speechiness\": 0.05,            # Desired speechiness (between 0 and 1)\n",
        "    \"target_tempo\": 140,                    # Desired tempo (in BPM eg. https://learningmusic.ableton.com/make-beats/tempo-and-genre.html)\n",
        "    #\"target_valence\": ,                    # Desired positivity (between 0 and 1)\n",
        "}\n",
        "\n"
      ],
      "metadata": {
        "id": "wR-y7JMgKu8S"
      },
      "execution_count": null,
      "outputs": []
    },
    {
      "cell_type": "code",
      "source": [
        "spotify.get_songs(my_params)"
      ],
      "metadata": {
        "colab": {
          "base_uri": "https://localhost:8080/"
        },
        "id": "e2Os9LfxEvhn",
        "outputId": "324196ec-4b26-4a60-ccda-25c720babf99"
      },
      "execution_count": null,
      "outputs": [
        {
          "output_type": "stream",
          "name": "stdout",
          "text": [
            "Letting Me Down by Margo Price\n",
            "You Hear Georgia by Blackberry Smoke\n",
            "Dust in a Baggie by Billy Strings\n",
            "All Damn Night by Futurebirds\n",
            "If It Wasn’t For Trucks by Riley Green\n",
            "I Was On a Boat That Day by Old Dominion\n",
            "That Kind of Life by Michigan Rattlers\n",
            "Harlem River Blues by Steve Earle\n",
            "I Got You Babe (feat. The 400 Unit) by Bahamas\n",
            "College Try by Futurebirds\n",
            "Back in Ohio by Lucero\n",
            "Whiskey by Midland\n",
            "Las Vegas by Houndmouth\n",
            "Pretty Good by Nathaniel Rateliff\n",
            "Only Thing That’s Gone (feat. Chris Stapleton) by Morgan Wallen\n",
            "Nothing Else Matters by Chris Stapleton\n",
            "Gettin' By by Flatland Cavalry\n",
            "Fourteen Gears by Midland\n",
            "You, Me and a Bottle by Randy Rogers Band\n",
            "Farther Along by Leslie Jordan\n",
            "Tall Boy by Carson Jeffrey\n",
            "Near Mrs. by LANCO\n",
            "A Little Honey by Nathaniel Rateliff & The Night Sweats\n",
            "Boot Scootin' Boogie - with Midland by Brooks & Dunn\n",
            "Record High by Randall King\n",
            "Dear Rodeo by Cody Johnson\n",
            "Show Me The Door by Billy Strings\n",
            "Stone by Whiskey Myers\n",
            "Black Rose by Shannon McNally\n",
            "Colder Than You by Canaan Smith\n"
          ]
        }
      ]
    },
    {
      "cell_type": "code",
      "source": [],
      "metadata": {
        "id": "lsViwoRudYZc"
      },
      "execution_count": null,
      "outputs": []
    }
  ]
}